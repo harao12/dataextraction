{
 "cells": [
  {
   "cell_type": "markdown",
   "id": "5731235e",
   "metadata": {},
   "source": [
    "# import libraries pandas and yfinance"
   ]
  },
  {
   "cell_type": "code",
   "execution_count": 16,
   "id": "b9d41a45",
   "metadata": {},
   "outputs": [],
   "source": [
    "import pandas as pd\n",
    "import yfinance as yf"
   ]
  },
  {
   "cell_type": "markdown",
   "id": "5d6df151",
   "metadata": {},
   "source": [
    "# collection data from yahoo finance"
   ]
  },
  {
   "cell_type": "code",
   "execution_count": 8,
   "id": "ad5d46f8",
   "metadata": {},
   "outputs": [],
   "source": [
    "start=pd.to_datetime('2022-01-01')\n",
    "end=pd.to_datetime('2022-11-29')"
   ]
  },
  {
   "cell_type": "code",
   "execution_count": 9,
   "id": "8429deab",
   "metadata": {},
   "outputs": [],
   "source": [
    "ramsay=('AAPL','BTC-USD','^DJI')"
   ]
  },
  {
   "cell_type": "code",
   "execution_count": 10,
   "id": "0652f627",
   "metadata": {},
   "outputs": [
    {
     "name": "stdout",
     "output_type": "stream",
     "text": [
      "[*********************100%***********************]  3 of 3 completed\n"
     ]
    }
   ],
   "source": [
    "df=yf.download(ramsay,start,end,interval='1d',group_by='ramsay',auto_adjust=True)"
   ]
  },
  {
   "cell_type": "code",
   "execution_count": 11,
   "id": "fd5716fd",
   "metadata": {},
   "outputs": [
    {
     "data": {
      "text/html": [
       "<div>\n",
       "<style scoped>\n",
       "    .dataframe tbody tr th:only-of-type {\n",
       "        vertical-align: middle;\n",
       "    }\n",
       "\n",
       "    .dataframe tbody tr th {\n",
       "        vertical-align: top;\n",
       "    }\n",
       "\n",
       "    .dataframe thead tr th {\n",
       "        text-align: left;\n",
       "    }\n",
       "\n",
       "    .dataframe thead tr:last-of-type th {\n",
       "        text-align: right;\n",
       "    }\n",
       "</style>\n",
       "<table border=\"1\" class=\"dataframe\">\n",
       "  <thead>\n",
       "    <tr>\n",
       "      <th></th>\n",
       "      <th colspan=\"5\" halign=\"left\">^DJI</th>\n",
       "      <th colspan=\"5\" halign=\"left\">AAPL</th>\n",
       "      <th colspan=\"5\" halign=\"left\">BTC-USD</th>\n",
       "    </tr>\n",
       "    <tr>\n",
       "      <th></th>\n",
       "      <th>Open</th>\n",
       "      <th>High</th>\n",
       "      <th>Low</th>\n",
       "      <th>Close</th>\n",
       "      <th>Volume</th>\n",
       "      <th>Open</th>\n",
       "      <th>High</th>\n",
       "      <th>Low</th>\n",
       "      <th>Close</th>\n",
       "      <th>Volume</th>\n",
       "      <th>Open</th>\n",
       "      <th>High</th>\n",
       "      <th>Low</th>\n",
       "      <th>Close</th>\n",
       "      <th>Volume</th>\n",
       "    </tr>\n",
       "    <tr>\n",
       "      <th>Date</th>\n",
       "      <th></th>\n",
       "      <th></th>\n",
       "      <th></th>\n",
       "      <th></th>\n",
       "      <th></th>\n",
       "      <th></th>\n",
       "      <th></th>\n",
       "      <th></th>\n",
       "      <th></th>\n",
       "      <th></th>\n",
       "      <th></th>\n",
       "      <th></th>\n",
       "      <th></th>\n",
       "      <th></th>\n",
       "      <th></th>\n",
       "    </tr>\n",
       "  </thead>\n",
       "  <tbody>\n",
       "    <tr>\n",
       "      <th>2022-01-01</th>\n",
       "      <td>NaN</td>\n",
       "      <td>NaN</td>\n",
       "      <td>NaN</td>\n",
       "      <td>NaN</td>\n",
       "      <td>NaN</td>\n",
       "      <td>NaN</td>\n",
       "      <td>NaN</td>\n",
       "      <td>NaN</td>\n",
       "      <td>NaN</td>\n",
       "      <td>NaN</td>\n",
       "      <td>46311.746094</td>\n",
       "      <td>47827.312500</td>\n",
       "      <td>46288.484375</td>\n",
       "      <td>47686.812500</td>\n",
       "      <td>24582667004</td>\n",
       "    </tr>\n",
       "    <tr>\n",
       "      <th>2022-01-02</th>\n",
       "      <td>NaN</td>\n",
       "      <td>NaN</td>\n",
       "      <td>NaN</td>\n",
       "      <td>NaN</td>\n",
       "      <td>NaN</td>\n",
       "      <td>NaN</td>\n",
       "      <td>NaN</td>\n",
       "      <td>NaN</td>\n",
       "      <td>NaN</td>\n",
       "      <td>NaN</td>\n",
       "      <td>47680.925781</td>\n",
       "      <td>47881.406250</td>\n",
       "      <td>46856.937500</td>\n",
       "      <td>47345.218750</td>\n",
       "      <td>27951569547</td>\n",
       "    </tr>\n",
       "    <tr>\n",
       "      <th>2022-01-03</th>\n",
       "      <td>36321.589844</td>\n",
       "      <td>36595.820312</td>\n",
       "      <td>36246.449219</td>\n",
       "      <td>36585.058594</td>\n",
       "      <td>347930000.0</td>\n",
       "      <td>175.597043</td>\n",
       "      <td>180.583634</td>\n",
       "      <td>175.478554</td>\n",
       "      <td>179.724548</td>\n",
       "      <td>104487900.0</td>\n",
       "      <td>47343.542969</td>\n",
       "      <td>47510.726562</td>\n",
       "      <td>45835.964844</td>\n",
       "      <td>46458.117188</td>\n",
       "      <td>33071628362</td>\n",
       "    </tr>\n",
       "    <tr>\n",
       "      <th>2022-01-04</th>\n",
       "      <td>36636.000000</td>\n",
       "      <td>36934.839844</td>\n",
       "      <td>36636.000000</td>\n",
       "      <td>36799.648438</td>\n",
       "      <td>435080000.0</td>\n",
       "      <td>180.336790</td>\n",
       "      <td>180.642895</td>\n",
       "      <td>176.870854</td>\n",
       "      <td>177.443573</td>\n",
       "      <td>99310400.0</td>\n",
       "      <td>46458.851562</td>\n",
       "      <td>47406.546875</td>\n",
       "      <td>45752.464844</td>\n",
       "      <td>45897.574219</td>\n",
       "      <td>42494677905</td>\n",
       "    </tr>\n",
       "    <tr>\n",
       "      <th>2022-01-05</th>\n",
       "      <td>36722.601562</td>\n",
       "      <td>36952.648438</td>\n",
       "      <td>36400.390625</td>\n",
       "      <td>36407.109375</td>\n",
       "      <td>462040000.0</td>\n",
       "      <td>177.354699</td>\n",
       "      <td>177.907665</td>\n",
       "      <td>172.447104</td>\n",
       "      <td>172.723587</td>\n",
       "      <td>94537600.0</td>\n",
       "      <td>45899.359375</td>\n",
       "      <td>46929.046875</td>\n",
       "      <td>42798.222656</td>\n",
       "      <td>43569.003906</td>\n",
       "      <td>36851084859</td>\n",
       "    </tr>\n",
       "    <tr>\n",
       "      <th>2022-01-06</th>\n",
       "      <td>36409.050781</td>\n",
       "      <td>36464.191406</td>\n",
       "      <td>36200.679688</td>\n",
       "      <td>36236.468750</td>\n",
       "      <td>385890000.0</td>\n",
       "      <td>170.531448</td>\n",
       "      <td>173.098806</td>\n",
       "      <td>169.484760</td>\n",
       "      <td>169.840240</td>\n",
       "      <td>96904000.0</td>\n",
       "      <td>43565.511719</td>\n",
       "      <td>43748.718750</td>\n",
       "      <td>42645.539062</td>\n",
       "      <td>43160.929688</td>\n",
       "      <td>30208048289</td>\n",
       "    </tr>\n",
       "    <tr>\n",
       "      <th>2022-01-07</th>\n",
       "      <td>36249.589844</td>\n",
       "      <td>36382.839844</td>\n",
       "      <td>36111.531250</td>\n",
       "      <td>36231.660156</td>\n",
       "      <td>356110000.0</td>\n",
       "      <td>170.719078</td>\n",
       "      <td>171.953382</td>\n",
       "      <td>168.882433</td>\n",
       "      <td>170.008118</td>\n",
       "      <td>86709100.0</td>\n",
       "      <td>43153.570312</td>\n",
       "      <td>43153.570312</td>\n",
       "      <td>41077.445312</td>\n",
       "      <td>41557.902344</td>\n",
       "      <td>84196607520</td>\n",
       "    </tr>\n",
       "    <tr>\n",
       "      <th>2022-01-08</th>\n",
       "      <td>NaN</td>\n",
       "      <td>NaN</td>\n",
       "      <td>NaN</td>\n",
       "      <td>NaN</td>\n",
       "      <td>NaN</td>\n",
       "      <td>NaN</td>\n",
       "      <td>NaN</td>\n",
       "      <td>NaN</td>\n",
       "      <td>NaN</td>\n",
       "      <td>NaN</td>\n",
       "      <td>41561.464844</td>\n",
       "      <td>42228.941406</td>\n",
       "      <td>40672.277344</td>\n",
       "      <td>41733.941406</td>\n",
       "      <td>28066355845</td>\n",
       "    </tr>\n",
       "    <tr>\n",
       "      <th>2022-01-09</th>\n",
       "      <td>NaN</td>\n",
       "      <td>NaN</td>\n",
       "      <td>NaN</td>\n",
       "      <td>NaN</td>\n",
       "      <td>NaN</td>\n",
       "      <td>NaN</td>\n",
       "      <td>NaN</td>\n",
       "      <td>NaN</td>\n",
       "      <td>NaN</td>\n",
       "      <td>NaN</td>\n",
       "      <td>41734.726562</td>\n",
       "      <td>42663.949219</td>\n",
       "      <td>41338.160156</td>\n",
       "      <td>41911.601562</td>\n",
       "      <td>21294384372</td>\n",
       "    </tr>\n",
       "    <tr>\n",
       "      <th>2022-01-10</th>\n",
       "      <td>36175.210938</td>\n",
       "      <td>36175.210938</td>\n",
       "      <td>35639.910156</td>\n",
       "      <td>36068.871094</td>\n",
       "      <td>430680000.0</td>\n",
       "      <td>166.956928</td>\n",
       "      <td>170.333983</td>\n",
       "      <td>166.058351</td>\n",
       "      <td>170.027878</td>\n",
       "      <td>106765600.0</td>\n",
       "      <td>41910.230469</td>\n",
       "      <td>42199.484375</td>\n",
       "      <td>39796.570312</td>\n",
       "      <td>41821.261719</td>\n",
       "      <td>32104232331</td>\n",
       "    </tr>\n",
       "  </tbody>\n",
       "</table>\n",
       "</div>"
      ],
      "text/plain": [
       "                    ^DJI                                            \\\n",
       "                    Open          High           Low         Close   \n",
       "Date                                                                 \n",
       "2022-01-01           NaN           NaN           NaN           NaN   \n",
       "2022-01-02           NaN           NaN           NaN           NaN   \n",
       "2022-01-03  36321.589844  36595.820312  36246.449219  36585.058594   \n",
       "2022-01-04  36636.000000  36934.839844  36636.000000  36799.648438   \n",
       "2022-01-05  36722.601562  36952.648438  36400.390625  36407.109375   \n",
       "2022-01-06  36409.050781  36464.191406  36200.679688  36236.468750   \n",
       "2022-01-07  36249.589844  36382.839844  36111.531250  36231.660156   \n",
       "2022-01-08           NaN           NaN           NaN           NaN   \n",
       "2022-01-09           NaN           NaN           NaN           NaN   \n",
       "2022-01-10  36175.210938  36175.210938  35639.910156  36068.871094   \n",
       "\n",
       "                               AAPL                                      \\\n",
       "                 Volume        Open        High         Low       Close   \n",
       "Date                                                                      \n",
       "2022-01-01          NaN         NaN         NaN         NaN         NaN   \n",
       "2022-01-02          NaN         NaN         NaN         NaN         NaN   \n",
       "2022-01-03  347930000.0  175.597043  180.583634  175.478554  179.724548   \n",
       "2022-01-04  435080000.0  180.336790  180.642895  176.870854  177.443573   \n",
       "2022-01-05  462040000.0  177.354699  177.907665  172.447104  172.723587   \n",
       "2022-01-06  385890000.0  170.531448  173.098806  169.484760  169.840240   \n",
       "2022-01-07  356110000.0  170.719078  171.953382  168.882433  170.008118   \n",
       "2022-01-08          NaN         NaN         NaN         NaN         NaN   \n",
       "2022-01-09          NaN         NaN         NaN         NaN         NaN   \n",
       "2022-01-10  430680000.0  166.956928  170.333983  166.058351  170.027878   \n",
       "\n",
       "                              BTC-USD                              \\\n",
       "                 Volume          Open          High           Low   \n",
       "Date                                                                \n",
       "2022-01-01          NaN  46311.746094  47827.312500  46288.484375   \n",
       "2022-01-02          NaN  47680.925781  47881.406250  46856.937500   \n",
       "2022-01-03  104487900.0  47343.542969  47510.726562  45835.964844   \n",
       "2022-01-04   99310400.0  46458.851562  47406.546875  45752.464844   \n",
       "2022-01-05   94537600.0  45899.359375  46929.046875  42798.222656   \n",
       "2022-01-06   96904000.0  43565.511719  43748.718750  42645.539062   \n",
       "2022-01-07   86709100.0  43153.570312  43153.570312  41077.445312   \n",
       "2022-01-08          NaN  41561.464844  42228.941406  40672.277344   \n",
       "2022-01-09          NaN  41734.726562  42663.949219  41338.160156   \n",
       "2022-01-10  106765600.0  41910.230469  42199.484375  39796.570312   \n",
       "\n",
       "                                       \n",
       "                   Close       Volume  \n",
       "Date                                   \n",
       "2022-01-01  47686.812500  24582667004  \n",
       "2022-01-02  47345.218750  27951569547  \n",
       "2022-01-03  46458.117188  33071628362  \n",
       "2022-01-04  45897.574219  42494677905  \n",
       "2022-01-05  43569.003906  36851084859  \n",
       "2022-01-06  43160.929688  30208048289  \n",
       "2022-01-07  41557.902344  84196607520  \n",
       "2022-01-08  41733.941406  28066355845  \n",
       "2022-01-09  41911.601562  21294384372  \n",
       "2022-01-10  41821.261719  32104232331  "
      ]
     },
     "execution_count": 11,
     "metadata": {},
     "output_type": "execute_result"
    }
   ],
   "source": [
    "df.head(10)"
   ]
  },
  {
   "cell_type": "code",
   "execution_count": 17,
   "id": "9f16c56b",
   "metadata": {},
   "outputs": [],
   "source": [
    "df.to_csv(r'OneDrive\\ramsay.csv')\n",
    "#code to save data file in computer device as csv"
   ]
  },
  {
   "cell_type": "markdown",
   "id": "36cf8aaa",
   "metadata": {},
   "source": [
    "# collect data from twitter"
   ]
  },
  {
   "cell_type": "code",
   "execution_count": 37,
   "id": "d4f02111",
   "metadata": {},
   "outputs": [],
   "source": [
    "import snscrape.modules.twitter as sntwitter\n",
    "import itertools\n",
    "import pandas as pd\n",
    "username = \"BbhuttoZardari\"\n",
    "since=\"2022-10-01\"\n",
    "count = 10"
   ]
  },
  {
   "cell_type": "code",
   "execution_count": 38,
   "id": "508fed19",
   "metadata": {},
   "outputs": [],
   "source": [
    "df=pd.DataFrame(itertools.islice(sntwitter.TwitterSearchScraper(f'from:{username}').get_items(),count))[['content','date','retweetCount']]"
   ]
  },
  {
   "cell_type": "code",
   "execution_count": 39,
   "id": "d78553bc",
   "metadata": {},
   "outputs": [
    {
     "name": "stdout",
     "output_type": "stream",
     "text": [
      "                                             content  \\\n",
      "0  Climate Justice Finally Arrives Through the Ne...   \n",
      "1  Shaheed Mohtarma Benazir Bhutto blazed a path ...   \n",
      "2  نفرت اور اشتعال کی سیاست سے لوگوں کو ایک دوسرے...   \n",
      "3  قتل گاہوں سے چن کر ہمارے علم \\n\\nاور نکلیں گے ...   \n",
      "4  Today Pakistan Peoples Party will be marking o...   \n",
      "5  شہید ذوالفقار علی بھٹو نے اس ملک کو پہلا جمہور...   \n",
      "6  پاکستان پیپلز پارٹی   نے 55 سال سے پاکستان کے ...   \n",
      "7  Allied parties collectively out preform PTI in...   \n",
      "8  Saddened to hear the news of the passing away ...   \n",
      "9  PTI facesaving flop show is  anticlimactic. Un...   \n",
      "\n",
      "                       date  retweetCount  \n",
      "0 2022-12-01 12:15:31+00:00          2142  \n",
      "1 2022-11-30 11:51:58+00:00          3079  \n",
      "2 2022-11-30 11:05:21+00:00          1656  \n",
      "3 2022-11-30 09:51:30+00:00           942  \n",
      "4 2022-11-30 07:37:57+00:00          2971  \n",
      "5 2022-11-29 13:41:07+00:00          1044  \n",
      "6 2022-11-29 13:13:05+00:00          1239  \n",
      "7 2022-11-29 02:55:00+00:00          1850  \n",
      "8 2022-11-26 17:38:29+00:00          1117  \n",
      "9 2022-11-26 16:24:07+00:00          2613  \n"
     ]
    }
   ],
   "source": [
    "print(df)"
   ]
  },
  {
   "cell_type": "code",
   "execution_count": 42,
   "id": "59390274",
   "metadata": {},
   "outputs": [],
   "source": [
    "df1=pd.DataFrame(itertools.islice(sntwitter.TwitterSearchScraper(f'from:{username} since:{since}').get_items(),count))[['date','content']]"
   ]
  },
  {
   "cell_type": "code",
   "execution_count": 44,
   "id": "664bd50d",
   "metadata": {},
   "outputs": [
    {
     "data": {
      "text/html": [
       "<div>\n",
       "<style scoped>\n",
       "    .dataframe tbody tr th:only-of-type {\n",
       "        vertical-align: middle;\n",
       "    }\n",
       "\n",
       "    .dataframe tbody tr th {\n",
       "        vertical-align: top;\n",
       "    }\n",
       "\n",
       "    .dataframe thead th {\n",
       "        text-align: right;\n",
       "    }\n",
       "</style>\n",
       "<table border=\"1\" class=\"dataframe\">\n",
       "  <thead>\n",
       "    <tr style=\"text-align: right;\">\n",
       "      <th></th>\n",
       "      <th>date</th>\n",
       "      <th>content</th>\n",
       "    </tr>\n",
       "  </thead>\n",
       "  <tbody>\n",
       "    <tr>\n",
       "      <th>0</th>\n",
       "      <td>2022-12-01 12:15:31+00:00</td>\n",
       "      <td>Climate Justice Finally Arrives Through the Ne...</td>\n",
       "    </tr>\n",
       "  </tbody>\n",
       "</table>\n",
       "</div>"
      ],
      "text/plain": [
       "                       date                                            content\n",
       "0 2022-12-01 12:15:31+00:00  Climate Justice Finally Arrives Through the Ne..."
      ]
     },
     "execution_count": 44,
     "metadata": {},
     "output_type": "execute_result"
    }
   ],
   "source": [
    "df1.head(1)"
   ]
  },
  {
   "cell_type": "code",
   "execution_count": 45,
   "id": "a8970964",
   "metadata": {},
   "outputs": [
    {
     "name": "stdout",
     "output_type": "stream",
     "text": [
      "                       date                                            content\n",
      "0 2022-12-01 12:15:31+00:00  Climate Justice Finally Arrives Through the Ne...\n",
      "1 2022-11-30 11:51:58+00:00  Shaheed Mohtarma Benazir Bhutto blazed a path ...\n",
      "2 2022-11-30 11:05:21+00:00  نفرت اور اشتعال کی سیاست سے لوگوں کو ایک دوسرے...\n",
      "3 2022-11-30 09:51:30+00:00  قتل گاہوں سے چن کر ہمارے علم \\n\\nاور نکلیں گے ...\n",
      "4 2022-11-30 07:37:57+00:00  Today Pakistan Peoples Party will be marking o...\n",
      "5 2022-11-29 13:41:07+00:00  شہید ذوالفقار علی بھٹو نے اس ملک کو پہلا جمہور...\n",
      "6 2022-11-29 13:13:05+00:00  پاکستان پیپلز پارٹی   نے 55 سال سے پاکستان کے ...\n",
      "7 2022-11-29 02:55:00+00:00  Allied parties collectively out preform PTI in...\n",
      "8 2022-11-26 17:38:29+00:00  Saddened to hear the news of the passing away ...\n",
      "9 2022-11-26 16:24:07+00:00  PTI facesaving flop show is  anticlimactic. Un...\n"
     ]
    }
   ],
   "source": [
    "print(df1)"
   ]
  },
  {
   "cell_type": "markdown",
   "id": "930debc5",
   "metadata": {},
   "source": [
    "# collect data from twitter"
   ]
  },
  {
   "cell_type": "code",
   "execution_count": 70,
   "id": "f91a3101",
   "metadata": {},
   "outputs": [],
   "source": [
    "since=\"2022-10-01\"\n",
    "count = 10\n",
    "hashtag='wildlife'\n",
    "search = '\"datascience\"'"
   ]
  },
  {
   "cell_type": "code",
   "execution_count": 66,
   "id": "adc8a0cf",
   "metadata": {},
   "outputs": [],
   "source": [
    "df=pd.DataFrame(itertools.islice(sntwitter.TwitterHashtagScraper (f'from:#{hashtag}').get_items(),count))[['date','content']]"
   ]
  },
  {
   "cell_type": "code",
   "execution_count": 67,
   "id": "52aee9b7",
   "metadata": {},
   "outputs": [
    {
     "name": "stdout",
     "output_type": "stream",
     "text": [
      "                       date                                            content\n",
      "0 2022-08-12 17:14:29+00:00  #Today #beach #travelling #in #SriLanka,😋😍,,\\n...\n",
      "1 2021-09-19 13:02:10+00:00  #wildlife #trafficking #from #bangladesh #to #...\n",
      "2 2021-07-08 13:13:21+00:00  #gear #up #we #brace #ourselves #tree #plantin...\n",
      "3 2021-06-11 21:02:00+00:00  #From the #archives\\n\\nNothing better than see...\n",
      "4 2021-04-09 21:02:00+00:00  #From the #archives\\n\\nNothing better than see...\n",
      "5 2021-02-19 22:01:00+00:00  #From the #archives\\n\\nNothing better than see...\n",
      "6 2020-12-11 22:01:00+00:00  #From the #archives\\n\\nNothing better than see...\n",
      "7 2020-11-13 22:05:00+00:00  #From the #archives\\n\\nNothing better than see...\n",
      "8 2020-10-22 17:45:22+00:00  Tips to protect you from the itchy plague\\n\\nh...\n",
      "9 2020-08-05 15:53:16+00:00  #thegreatdays2020 le 24 Juil 2020\\n#Hommage à ...\n"
     ]
    }
   ],
   "source": [
    "print(df)"
   ]
  },
  {
   "cell_type": "code",
   "execution_count": 71,
   "id": "1f29bc69",
   "metadata": {},
   "outputs": [],
   "source": [
    "df1=pd.DataFrame(itertools.islice(sntwitter.TwitterSearchScraper(f'from:{search}').get_items(),count))[['date','content']]"
   ]
  },
  {
   "cell_type": "code",
   "execution_count": 72,
   "id": "13391b3b",
   "metadata": {},
   "outputs": [
    {
     "name": "stdout",
     "output_type": "stream",
     "text": [
      "                       date                                            content\n",
      "0 2022-01-18 01:50:51+00:00  Online data course - Starts Jan 31, Free to au...\n",
      "1 2018-11-06 16:59:10+00:00  \"Tidy datasets are all alike, but every messy ...\n",
      "2 2018-10-10 15:08:20+00:00  The word \"algebra\" comes from 'The Compendious...\n",
      "3 2018-10-02 03:14:21+00:00  From The Grammar of Graphics by Leland Wilkins...\n",
      "4 2018-09-28 18:05:33+00:00  If you're interested in the history of #DataSc...\n",
      "5 2018-09-24 15:54:12+00:00  @samiyehmah @Hugo @Medium Agree. I was actuall...\n",
      "6 2018-09-22 19:20:04+00:00  \"Everybody who does #DataScience really needs ...\n",
      "7 2018-09-22 17:35:42+00:00  \"If we look back on the history of statistics....\n",
      "8 2018-09-22 17:31:08+00:00  This 2001 paper by William S. Cleveland is a m...\n",
      "9 2018-09-22 01:55:55+00:00  Good advice from @hadleywickham on dealing wit...\n"
     ]
    }
   ],
   "source": [
    "print(df1)"
   ]
  },
  {
   "cell_type": "markdown",
   "id": "f3fbfb41",
   "metadata": {},
   "source": [
    "# collect data from insta"
   ]
  },
  {
   "cell_type": "code",
   "execution_count": 18,
   "id": "5cb8b9a1",
   "metadata": {},
   "outputs": [],
   "source": [
    "import instaloader"
   ]
  },
  {
   "cell_type": "code",
   "execution_count": 19,
   "id": "e7eac812",
   "metadata": {},
   "outputs": [],
   "source": [
    "bot=instaloader.Instaloader()"
   ]
  },
  {
   "cell_type": "code",
   "execution_count": 20,
   "id": "678f9542",
   "metadata": {},
   "outputs": [],
   "source": [
    "username='hassan.rao'"
   ]
  },
  {
   "cell_type": "code",
   "execution_count": 21,
   "id": "80fa8f3b",
   "metadata": {},
   "outputs": [],
   "source": [
    "profile = instaloader.Profile.from_username(bot.context, username)"
   ]
  },
  {
   "cell_type": "code",
   "execution_count": 22,
   "id": "8c206971",
   "metadata": {},
   "outputs": [
    {
     "name": "stdout",
     "output_type": "stream",
     "text": [
      "<Profile hassan.rao (1702557131)>\n"
     ]
    }
   ],
   "source": [
    "print(profile)"
   ]
  },
  {
   "cell_type": "code",
   "execution_count": 23,
   "id": "d2851adf",
   "metadata": {},
   "outputs": [
    {
     "name": "stdout",
     "output_type": "stream",
     "text": [
      "Username:  hassan.rao\n"
     ]
    }
   ],
   "source": [
    "print(\"Username: \", profile.username)"
   ]
  },
  {
   "cell_type": "code",
   "execution_count": 24,
   "id": "2e45e7f1",
   "metadata": {},
   "outputs": [
    {
     "name": "stdout",
     "output_type": "stream",
     "text": [
      "User ID:  1702557131\n"
     ]
    }
   ],
   "source": [
    "print(\"User ID: \", profile.userid)"
   ]
  },
  {
   "cell_type": "code",
   "execution_count": 25,
   "id": "f6f47084",
   "metadata": {},
   "outputs": [
    {
     "name": "stdout",
     "output_type": "stream",
     "text": [
      "Number of Posts:  48\n"
     ]
    }
   ],
   "source": [
    "print(\"Number of Posts: \", profile.mediacount)"
   ]
  },
  {
   "cell_type": "code",
   "execution_count": 26,
   "id": "3618f110",
   "metadata": {},
   "outputs": [
    {
     "name": "stdout",
     "output_type": "stream",
     "text": [
      "Followers:  397\n"
     ]
    }
   ],
   "source": [
    "print(\"Followers: \", profile.followers)"
   ]
  },
  {
   "cell_type": "code",
   "execution_count": 27,
   "id": "331aaa86",
   "metadata": {},
   "outputs": [
    {
     "name": "stdout",
     "output_type": "stream",
     "text": [
      "Followees:  1023\n"
     ]
    }
   ],
   "source": [
    "print(\"Followees: \", profile.followees)"
   ]
  },
  {
   "cell_type": "code",
   "execution_count": 28,
   "id": "b88f1a81",
   "metadata": {},
   "outputs": [
    {
     "name": "stdout",
     "output_type": "stream",
     "text": [
      "Bio:   None\n"
     ]
    }
   ],
   "source": [
    "print(\"Bio: \", profile.biography,profile.external_url)"
   ]
  },
  {
   "cell_type": "code",
   "execution_count": 29,
   "id": "89a6664f",
   "metadata": {},
   "outputs": [
    {
     "name": "stdout",
     "output_type": "stream",
     "text": [
      "External URL:  None\n"
     ]
    }
   ],
   "source": [
    "print(\"External URL: \", profile.external_url)"
   ]
  },
  {
   "cell_type": "code",
   "execution_count": null,
   "id": "fb3e1fd6",
   "metadata": {},
   "outputs": [],
   "source": []
  }
 ],
 "metadata": {
  "kernelspec": {
   "display_name": "Python 3 (ipykernel)",
   "language": "python",
   "name": "python3"
  },
  "language_info": {
   "codemirror_mode": {
    "name": "ipython",
    "version": 3
   },
   "file_extension": ".py",
   "mimetype": "text/x-python",
   "name": "python",
   "nbconvert_exporter": "python",
   "pygments_lexer": "ipython3",
   "version": "3.9.7"
  }
 },
 "nbformat": 4,
 "nbformat_minor": 5
}
